{
 "cells": [
  {
   "cell_type": "code",
   "execution_count": 1,
   "metadata": {},
   "outputs": [],
   "source": [
    "import os\n",
    "import time\n",
    "import subprocess\n",
    "import json"
   ]
  },
  {
   "cell_type": "code",
   "execution_count": 2,
   "metadata": {},
   "outputs": [],
   "source": [
    "import wolframalpha\n",
    "import requests\n",
    "import webbrowser\n",
    "import wikipedia\n",
    "import datetime"
   ]
  },
  {
   "cell_type": "code",
   "execution_count": 3,
   "metadata": {},
   "outputs": [],
   "source": [
    "import speech_recognition as sr\n",
    "import pyttsx3"
   ]
  },
  {
   "cell_type": "code",
   "execution_count": 4,
   "metadata": {},
   "outputs": [
    {
     "name": "stdout",
     "output_type": "stream",
     "text": [
      "LOADING YOUR A.I PERSONAL ASSISTANT JARVIS\n"
     ]
    }
   ],
   "source": [
    "print(\"LOADING YOUR A.I PERSONAL ASSISTANT JARVIS\")"
   ]
  },
  {
   "cell_type": "code",
   "execution_count": 5,
   "metadata": {},
   "outputs": [],
   "source": [
    "engine = pyttsx3.init('sapi5')\n",
    "voices = engine.getProperty('voices')\n",
    "engine.setProperty('voice',\"voices[0].id\") #for male voice"
   ]
  },
  {
   "cell_type": "code",
   "execution_count": 6,
   "metadata": {},
   "outputs": [],
   "source": [
    "def speak(text):\n",
    "    engine.say(text)\n",
    "    engine.runAndWait()\n",
    "    "
   ]
  },
  {
   "cell_type": "code",
   "execution_count": 7,
   "metadata": {},
   "outputs": [],
   "source": [
    "def wishMe():\n",
    "    hour = datetime.datetime.now().hour #considers laptop timings\n",
    "    if hour>=0 and hour<=12:\n",
    "        speak(\"Hello, Good Morning Ms.Rachna\")\n",
    "        print(\"Hello, Good Morning Ms.Rachna\")\n",
    "    elif hour>=12 and hour<=16:\n",
    "        speak(\"Hello, Good Afternoon Ms.Rachna\")\n",
    "        print(\"Hello, Good Afternoon Ms.Rachna\")\n",
    "    elif hour>=16 and hour<=20:\n",
    "        speak(\"Hello, Good Evening Ms.Rachna\")\n",
    "        print(\"Hello, Good Evening Ms.Rachna\")    \n",
    "    else:\n",
    "        speak(\"Ms.Rachna, please get your beauty sleep\")\n",
    "        print(\"Ms.Rachna, please get your beauty sleep\")\n",
    "    \n",
    "    "
   ]
  },
  {
   "cell_type": "code",
   "execution_count": 8,
   "metadata": {},
   "outputs": [],
   "source": [
    "def takeCommand():\n",
    "    r = sr.Recognizer()\n",
    "    with sr.Microphone() as source:\n",
    "        speak(\"I am listening\")\n",
    "        print(\"I am listening\")\n",
    "        audio = r.listen(source)\n",
    "        \n",
    "        try:\n",
    "            statement = r.recognize_google(audio,language='en-in')\n",
    "            print(f\"User said:{statement}\\n\")\n",
    "            \n",
    "        except  Exception as e:\n",
    "            speak(\"Pardon me, please say that again\")\n",
    "            return \"None\"\n",
    "        return statement\n",
    "             "
   ]
  },
  {
   "cell_type": "code",
   "execution_count": 9,
   "metadata": {},
   "outputs": [
    {
     "name": "stdout",
     "output_type": "stream",
     "text": [
      "Hello, Good Morning Ms.Rachna\n"
     ]
    }
   ],
   "source": [
    "speak(\"LOADING YOUR A.I PERSONAL ASSISTANT JARVIS\")\n",
    "wishMe()\n"
   ]
  },
  {
   "cell_type": "code",
   "execution_count": null,
   "metadata": {},
   "outputs": [
    {
     "name": "stdout",
     "output_type": "stream",
     "text": [
      "I am listening\n",
      "User said:open stock overflow\n",
      "\n",
      "I am listening\n",
      "I am listening\n",
      "I am listening\n",
      "User said:open Google Chrome\n",
      "\n",
      "I am listening\n",
      "User said:Prem\n",
      "\n",
      "I am listening\n",
      "I am listening\n",
      "User said:I will good and evil Bible\n",
      "\n"
     ]
    }
   ],
   "source": [
    "if __name__ == '__main__':\n",
    "    while True:\n",
    "        speak(\"How may I help you?\")\n",
    "        statement = takeCommand().lower()\n",
    "        if statement == 0:\n",
    "            continue\n",
    "        if \"Good Bye\" in statement or \" ok bye\" in statement or \"Thank you\" in statement:\n",
    "            speak(\"Glad I was of help to you. Your A.I personal assistant JARVIS is shutting down\")\n",
    "            print(\"Glad I was of help to you. Your A.I personal assistant JARVIS is shutting down\")\n",
    "            break\n",
    "        if 'wikipedia' in statement:\n",
    "            speak(\"Searching Wikipedia...\")\n",
    "            statement = statement.replace(\"wikipedia\",\" \")\n",
    "            results = wikipedia.summary(statement,sentences = 3)\n",
    "            speak(\"According to wikipedia...\")\n",
    "            print(results)\n",
    "            speak(results)\n",
    "            \n",
    "        elif \"Open Youtube\" in statement:\n",
    "            webbrowser.open_new_tab(\"https://www.youtube.com\")\n",
    "            speak(\"Youtube is open for you\")\n",
    "            time.sleep(5)\n",
    "        \n",
    "        elif \"Open Google\" in statement:\n",
    "            webbrowser.open_new_tab(\"https://www.google.com\")\n",
    "            speak(\"Google Search is open for you\")\n",
    "            time.sleep(5)\n",
    "            \n",
    "        elif \"Open Gmail\" in statement:\n",
    "            webbrowser.open_new_tab(\"gmail.com\")\n",
    "            speak(\"Your Gmail is open for you\")\n",
    "            time.sleep(5)\n",
    "        \n",
    "        elif \"weather\" in statement:\n",
    "            api_key = \"8ef61edcf1c576d65d836254e11ea420\"\n",
    "            base_url = \"https://api.openweathermap.org/data/2.5/weather?\"\n",
    "            speak(\"What's the name of your city?\")\n",
    "            city_name = takeCommand()\n",
    "            complete_url = base_url + \"appid = \" + api_key + \"&q= \" + city_name\n",
    "            response = requests.get(complete_url)\n",
    "            x = response.json() \n",
    "            if x['cod']!='404':\n",
    "                y= x['main']\n",
    "                current_temperature = y[\"temp\"]\n",
    "                current_humidity = y[\"humidity\"]\n",
    "                z = x[\"weather\"]\n",
    "                weather_description = z[0][\"description\"]\n",
    "                speak(\"The temperature in kelvin units is \"+ str(current_temperature)+ \"\\n humidity in percentage is\" + str(current_humidity))\n",
    "                print(\"The temperature in kelvin units is \"+ str(current_temperature)+ \"\\n humidity in percentage is\" + str(current_humidity))\n",
    "            else:\n",
    "                speak(\"City not found\")\n",
    "                print(\"City not found\")\n",
    "        \n",
    "        elif \"time\" in statement:\n",
    "            strTime = datetime.datetime.now().strftime(\"%H:%H:%S\")\n",
    "            speak(\"The time is {strTime}\")\n",
    "            \n",
    "        elif \"who are you\" in statement or \"what can you do\" in statement:\n",
    "            speak(\"I am JARVIS version 1 point 0, your personal assistant. I am programmed to do minor tasks like\"\n",
    "                 \"opening youtube, google chrome, gmail,stack overflow, predict time, take a photo, search wikipedia,\"\n",
    "                 \"predict weather in different cities,get top headline news from times of India and perform computational tasks\")\n",
    "            \n",
    "        elif \"Who made you\" in statement or \"who created you\" in statement or \"who invented you\" in statement:\n",
    "            speak(\"I was built by AI ROBOSOFT\")\n",
    "            print(\"I was built by AI ROBOSOFT\")\n",
    "       \n",
    "        elif \"open stack overflow\" in statement:\n",
    "            webbrowser.open_new_tab(\"https://stackoverflow.com/login\")\n",
    "            time.sleep(5)\n",
    "        \n",
    "        elif \"news\" in statement:    \n",
    "            news = webbrowser.open_new_tab(\"https://timesofindia.indiantimes.com/home/headlines\")\n",
    "            speak(\"Here are some Headlines for you from Times Of India - Happy Reading\")\n",
    "            time.sleep(7)\n",
    "    \n",
    "        elif \"search\" in statement:\n",
    "            statement = statement.replace(\"Searching\",\"\")\n",
    "            webbrowser.open_new_tab(\"statement\")\n",
    "            time.sleep(5)\n",
    "            \n",
    "\n",
    "        elif \"ask\" in statement:\n",
    "            speak(\"i can answer to computational and geographical questions. Try me!\")\n",
    "            question = takeCommand()\n",
    "            app_id = 'R2K75H-7ELALHR35X' \n",
    "            client =  wolframalpha.Client(\"R2K75H-7ELALHR35X\")\n",
    "            res = client.query(question)\n",
    "            answer = next(res.results).text\n",
    "            speak(answer)\n",
    "            print(answer)\n",
    "            \n",
    "            \n",
    "        elif \"shutdown\" in statement or \"log off\" in statement or \"sign out\" in statement:\n",
    "            speak(\"ok, your pc will shut down in 10 seconds: make sure you save and exit from all your applications \")\n",
    "            subprocess.call([\"shutdown\",\"/1\"])\n",
    "            \n",
    "time.sleep(3)        "
   ]
  },
  {
   "cell_type": "code",
   "execution_count": null,
   "metadata": {},
   "outputs": [],
   "source": []
  }
 ],
 "metadata": {
  "kernelspec": {
   "display_name": "Python 3",
   "language": "python",
   "name": "python3"
  },
  "language_info": {
   "codemirror_mode": {
    "name": "ipython",
    "version": 3
   },
   "file_extension": ".py",
   "mimetype": "text/x-python",
   "name": "python",
   "nbconvert_exporter": "python",
   "pygments_lexer": "ipython3",
   "version": "3.8.3"
  }
 },
 "nbformat": 4,
 "nbformat_minor": 4
}
